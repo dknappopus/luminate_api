{
 "cells": [
  {
   "cell_type": "code",
   "execution_count": 1,
   "metadata": {},
   "outputs": [],
   "source": [
    "import json\n",
    "import requests\n",
    "import sys\n",
    " \n",
    "import pymysql\n",
    "\n",
    "import pandas as pd\n",
    "import json\n",
    "import requests\n",
    "import random\n",
    "import urllib3\n",
    "urllib3.disable_warnings()\n",
    "from tqdm import tqdm\n",
    "from multiprocess import Pool, Manager, cpu_count\n",
    "from functools import partial\n",
    "from ratelimit import sleep_and_retry\n",
    "import time\n",
    "import datetime"
   ]
  }
 ],
 "metadata": {
  "kernelspec": {
   "display_name": ".venv",
   "language": "python",
   "name": "python3"
  },
  "language_info": {
   "codemirror_mode": {
    "name": "ipython",
    "version": 3
   },
   "file_extension": ".py",
   "mimetype": "text/x-python",
   "name": "python",
   "nbconvert_exporter": "python",
   "pygments_lexer": "ipython3",
   "version": "3.11.3"
  }
 },
 "nbformat": 4,
 "nbformat_minor": 2
}
